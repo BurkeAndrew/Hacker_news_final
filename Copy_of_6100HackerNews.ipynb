{
  "nbformat": 4,
  "nbformat_minor": 0,
  "metadata": {
    "colab": {
      "name": "Copy of 6100HackerNews.ipynb",
      "provenance": [],
      "toc_visible": true
    },
    "kernelspec": {
      "name": "python3",
      "display_name": "Python 3"
    }
  },
  "cells": [
    {
      "cell_type": "markdown",
      "metadata": {
        "id": "ZUP81NExxv9J",
        "colab_type": "text"
      },
      "source": [
        "# Hacker News Comment Efficency\n",
        "For this project we will be determining the best type and time to conduct a post on Hacker News. The measure of success is determined by the average number of comments the post receives. "
      ]
    },
    {
      "cell_type": "code",
      "metadata": {
        "id": "6TfIzL7gx2_G",
        "colab_type": "code",
        "colab": {
          "base_uri": "https://localhost:8080/",
          "height": 107
        },
        "outputId": "e551ff80-55f4-4c9d-d380-ba7027643b1d"
      },
      "source": [
        "import pandas as pd\n",
        "\n",
        "path = 'https://github.com/mjshafer-1/ECO6100/raw/master/197_419_bundle_archive.zip'\n",
        "df = pd.read_csv(path, compression='zip')\n",
        "\n",
        "headers = list(df)                 \n",
        "hn = df.values.tolist()\n",
        "\n",
        "print(headers)\n",
        "print('\\n')\n",
        "print(hn[:5])\n"
      ],
      "execution_count": 4,
      "outputs": [
        {
          "output_type": "stream",
          "text": [
            "['id', 'title', 'url', 'num_points', 'num_comments', 'author', 'created_at']\n",
            "\n",
            "\n",
            "[[12579008, 'You have two days to comment if you want stem cells to be classified as your own', 'http://www.regulations.gov/document?D=FDA-2015-D-3719-0018', 1, 0, 'altstar', '9/26/2016 3:26'], [12579005, 'SQLAR  the SQLite Archiver', 'https://www.sqlite.org/sqlar/doc/trunk/README.md', 1, 0, 'blacksqr', '9/26/2016 3:24'], [12578997, 'What if we just printed a flatscreen television on the side of our boxes?', 'https://medium.com/vanmoof/our-secrets-out-f21c1f03fdc8#.ietxmez43', 1, 0, 'pavel_lishin', '9/26/2016 3:19'], [12578989, 'algorithmic music', 'http://cacm.acm.org/magazines/2011/7/109891-algorithmic-composition/fulltext', 1, 0, 'poindontcare', '9/26/2016 3:16'], [12578979, 'How the Data Vault Enables the Next-Gen Data Warehouse and Data Lake', 'https://www.talend.com/blog/2016/05/12/talend-and-Â\\x93the-data-vaultÂ\\x94', 1, 0, 'markgainor1', '9/26/2016 3:14']]\n"
          ],
          "name": "stdout"
        }
      ]
    },
    {
      "cell_type": "code",
      "metadata": {
        "id": "EWCqee94AvVy",
        "colab_type": "code",
        "colab": {}
      },
      "source": [
        "clean_comments = []\n",
        "for row in hn:\n",
        "  comments = int(row[4])\n",
        "  if comments != 0:\n",
        "    clean_comments.append(row)\n",
        "hn =clean_comments "
      ],
      "execution_count": 5,
      "outputs": []
    },
    {
      "cell_type": "code",
      "metadata": {
        "id": "ieKlwKvLDAo2",
        "colab_type": "code",
        "colab": {
          "base_uri": "https://localhost:8080/",
          "height": 69
        },
        "outputId": "5ff0839b-dc88-4165-95ce-15f5df11a005"
      },
      "source": [
        "ask_posts = []\n",
        "show_posts = []\n",
        "other_posts = []\n",
        "\n",
        "for row in hn:\n",
        "  title = row[1]\n",
        "  if title.lower().startswith('ask hn'):\n",
        "    ask_posts.append(row)\n",
        "  elif title.lower().startswith('show hn'):\n",
        "    show_posts.append(row)\n",
        "  else:\n",
        "    other_posts.append(row)\n",
        "print(len(ask_posts))\n",
        "print(len(show_posts))\n",
        "print(len(other_posts))"
      ],
      "execution_count": 6,
      "outputs": [
        {
          "output_type": "stream",
          "text": [
            "6911\n",
            "5059\n",
            "68431\n"
          ],
          "name": "stdout"
        }
      ]
    },
    {
      "cell_type": "code",
      "metadata": {
        "id": "tby9Sk8AEOFN",
        "colab_type": "code",
        "colab": {
          "base_uri": "https://localhost:8080/",
          "height": 35
        },
        "outputId": "e0f261c3-ff56-42b7-dd0b-efaed149ed55"
      },
      "source": [
        "total_ask_comments = 0\n",
        "for row in ask_posts:\n",
        "  comments = int(row[4])\n",
        "  total_ask_comments += comments\n",
        "avg_ask_comments = total_ask_comments / len(ask_posts)\n",
        "\n",
        "print(round(avg_ask_comments,2))"
      ],
      "execution_count": 9,
      "outputs": [
        {
          "output_type": "stream",
          "text": [
            "13.74\n"
          ],
          "name": "stdout"
        }
      ]
    },
    {
      "cell_type": "code",
      "metadata": {
        "id": "aBTAw0ZvFgGe",
        "colab_type": "code",
        "colab": {
          "base_uri": "https://localhost:8080/",
          "height": 35
        },
        "outputId": "613c9df8-f04d-4d40-c168-cbbfb913eeb0"
      },
      "source": [
        "total_show_comments = 0\n",
        "for row in show_posts:\n",
        "  comments = int(row[4])\n",
        "  total_show_comments += comments\n",
        "avg_show_comments = total_show_comments / len(show_posts)\n",
        "print(round(avg_show_comments,2))\n"
      ],
      "execution_count": 11,
      "outputs": [
        {
          "output_type": "stream",
          "text": [
            "9.81\n"
          ],
          "name": "stdout"
        }
      ]
    },
    {
      "cell_type": "markdown",
      "metadata": {
        "id": "VpQYx4VqG12f",
        "colab_type": "text"
      },
      "source": [
        "Here we can see that the show comments, on average, received less comments than the ask. \n",
        "\n",
        "#Calculating Average Number of Comments by Post per Hour\n",
        "To calculate the average number of comments for posts created during each hour of the day, we will create an empty list that will hold the hour of the day when posts are created and the averge number of comments posted during that hour. These post_hour and avg_comment_by_hour items will be stored in the empty list as key-value pairs."
      ]
    },
    {
      "cell_type": "code",
      "metadata": {
        "id": "qLXd9y5lHB_d",
        "colab_type": "code",
        "colab": {}
      },
      "source": [
        "import datetime as dt\n",
        "result_list = []\n",
        "for row in ask_posts:\n",
        "  created_at = row[6]\n",
        "  comments = int(row[4])\n",
        "  result_list.append([created_at,(comments)])\n"
      ],
      "execution_count": 12,
      "outputs": []
    },
    {
      "cell_type": "code",
      "metadata": {
        "id": "aI9vBlQQIZPM",
        "colab_type": "code",
        "colab": {}
      },
      "source": [
        "counts_by_hour = {}\n",
        "comments_by_hour = {}\n",
        "for item in result_list:\n",
        "  time = \"%m/%d/%Y %H:%M\"\n",
        "  time_created = dt.datetime.strptime(item[0],time)\n",
        "  hour = time_created.strftime('%H')\n",
        "  if hour in counts_by_hour:\n",
        "    counts_by_hour[hour] += 1\n",
        "    comments_by_hour[hour] += item[1]\n",
        "  else:\n",
        "    counts_by_hour[hour] = 1\n",
        "    comments_by_hour[hour] = item[1]\n",
        "\n",
        "\n"
      ],
      "execution_count": 14,
      "outputs": []
    },
    {
      "cell_type": "code",
      "metadata": {
        "id": "FbgVB_0sKauJ",
        "colab_type": "code",
        "colab": {
          "base_uri": "https://localhost:8080/",
          "height": 55
        },
        "outputId": "33a6af68-c730-4008-e00f-3a51f815a44a"
      },
      "source": [
        "avg_by_hour = []\n",
        "for hour in counts_by_hour:\n",
        "  avg_by_hour.append([hour, comments_by_hour[hour]/counts_by_hour[hour]])\n",
        "\n",
        "print(avg_by_hour)\n"
      ],
      "execution_count": 15,
      "outputs": [
        {
          "output_type": "stream",
          "text": [
            "[['02', 13.198237885462555], ['01', 9.367713004484305], ['22', 11.749128919860627], ['21', 11.056511056511056], ['19', 9.414285714285715], ['17', 13.73019801980198], ['15', 39.66809421841542], ['14', 13.153439153439153], ['13', 22.2239263803681], ['11', 11.143426294820717], ['10', 13.757990867579908], ['09', 8.392045454545455], ['07', 10.095541401273886], ['03', 10.160377358490566], ['16', 10.76144578313253], ['08', 12.43157894736842], ['00', 9.857142857142858], ['23', 8.322463768115941], ['20', 11.38265306122449], ['18', 10.789823008849558], ['12', 15.452554744525548], ['04', 12.688172043010752], ['06', 9.017045454545455], ['05', 11.139393939393939]]\n"
          ],
          "name": "stdout"
        }
      ]
    },
    {
      "cell_type": "code",
      "metadata": {
        "id": "dDmBcV-7MUTa",
        "colab_type": "code",
        "colab": {
          "base_uri": "https://localhost:8080/",
          "height": 121
        },
        "outputId": "37e00603-d382-47b0-91a0-041541ad13b5"
      },
      "source": [
        "swap_avg_by_hour = []\n",
        "\n",
        "for row in avg_by_hour:\n",
        "    swap_avg_by_hour.append([row[1], row[0]])\n",
        "\n",
        "    sorted_swap = sorted(swap_avg_by_hour, reverse = True)\n",
        "print('Top 5 Hours for Ask Posts Comments')\n",
        "for avg, hr in sorted_swap[:5]:\n",
        "    print('{}: {:.2f} average comments per post'.format(dt.datetime.strptime(hr, '%H').strftime('%H:%M'), avg))\n"
      ],
      "execution_count": 16,
      "outputs": [
        {
          "output_type": "stream",
          "text": [
            "Top 5 Hours for Ask Posts Comments\n",
            "15:00: 39.67 average comments per post\n",
            "13:00: 22.22 average comments per post\n",
            "12:00: 15.45 average comments per post\n",
            "10:00: 13.76 average comments per post\n",
            "17:00: 13.73 average comments per post\n"
          ],
          "name": "stdout"
        }
      ]
    },
    {
      "cell_type": "markdown",
      "metadata": {
        "id": "jVN_LeuWPaYd",
        "colab_type": "text"
      },
      "source": [
        "The Best time to create a post is between 1 and 3pm with an \"Ask HN\""
      ]
    },
    {
      "cell_type": "code",
      "metadata": {
        "id": "ttXvkMasUmAZ",
        "colab_type": "code",
        "colab": {}
      },
      "source": [
        ""
      ],
      "execution_count": null,
      "outputs": []
    }
  ]
}